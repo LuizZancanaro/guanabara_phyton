{
  "nbformat": 4,
  "nbformat_minor": 0,
  "metadata": {
    "colab": {
      "provenance": [],
      "authorship_tag": "ABX9TyPi966MrcUFNNv3xmiBv6HB",
      "include_colab_link": true
    },
    "kernelspec": {
      "name": "python3",
      "display_name": "Python 3"
    },
    "language_info": {
      "name": "python"
    }
  },
  "cells": [
    {
      "cell_type": "markdown",
      "metadata": {
        "id": "view-in-github",
        "colab_type": "text"
      },
      "source": [
        "<a href=\"https://colab.research.google.com/github/LuizZancanaro/guanabara_phyton/blob/main/Exericicios_Guanabara_Phyton.ipynb\" target=\"_parent\"><img src=\"https://colab.research.google.com/assets/colab-badge.svg\" alt=\"Open In Colab\"/></a>"
      ]
    },
    {
      "cell_type": "markdown",
      "source": [
        "#Exercício Python 001 - Olá Mundo!"
      ],
      "metadata": {
        "id": "TUEaxgEuqQ5j"
      }
    },
    {
      "cell_type": "code",
      "source": [
        "print(\"Olá mundo!\")"
      ],
      "metadata": {
        "id": "Kh7colNcp2rs"
      },
      "execution_count": null,
      "outputs": []
    },
    {
      "cell_type": "markdown",
      "source": [
        "#Exercício Python 002 - Saudações"
      ],
      "metadata": {
        "id": "DYz8zJTIq5XV"
      }
    },
    {
      "cell_type": "code",
      "source": [
        "nome = input('Digite seu nome:')\n",
        "print(f'Olá, {nome}.\\nSeja bem-vindo!')"
      ],
      "metadata": {
        "id": "31BJmn5Kqs45"
      },
      "execution_count": null,
      "outputs": []
    },
    {
      "cell_type": "markdown",
      "source": [
        "#Exercício Python 003 - Soma de Dois Valores"
      ],
      "metadata": {
        "id": "p8yMh5ZOrXrm"
      }
    },
    {
      "cell_type": "code",
      "source": [
        "a = int(input('Qual o primeiro valor a ser somado:'))\n",
        "b = int(input('Qual o segundo valor a ser somado:'))\n",
        "print(f'O resuldado da soma de {a} com {b} é {a+b}')\n"
      ],
      "metadata": {
        "id": "g0BLt_qzq_FI"
      },
      "execution_count": null,
      "outputs": []
    },
    {
      "cell_type": "markdown",
      "source": [
        "#Exercício Python 004 - Dissecando uma Entrada"
      ],
      "metadata": {
        "id": "e3uAieiTrupW"
      }
    },
    {
      "cell_type": "code",
      "source": [
        "from string import ascii_uppercase\n",
        "a = input(\"Digite alguma coisa: \")\n",
        "print('O que você digitou é do tipo', type(a))\n",
        "print('Só tem espaços?', a.isspace())\n",
        "print('É um número?', a.isnumeric())\n",
        "print('É alfabetico?', a.isalpha())\n",
        "print('É alfanumérico?', a.isalnum())\n",
        "print('Está em maiúscula?', a.isupper())\n",
        "print('Está em minúsculo?', a.islower())\n",
        "print('Tem a primeira letra maiuscula?', a.istitle())\n"
      ],
      "metadata": {
        "id": "Lt9fYafzrIsl"
      },
      "execution_count": null,
      "outputs": []
    },
    {
      "cell_type": "markdown",
      "source": [
        "#Exercício Python 005 - Sucessor, Antecessor"
      ],
      "metadata": {
        "id": "0Q0Q_W6ot6S2"
      }
    },
    {
      "cell_type": "code",
      "source": [
        "a = int(input('Digite um número: '))\n",
        "print(f'O antecessor de {a} é {a-1}, e o sucessor é {a+1}')"
      ],
      "metadata": {
        "id": "Q6FWrycRsTfu"
      },
      "execution_count": null,
      "outputs": []
    },
    {
      "cell_type": "markdown",
      "source": [
        "#Exercício Python 006 - Dobro, Triplo, e Raiz Quadrada"
      ],
      "metadata": {
        "id": "371A4GBeuX29"
      }
    },
    {
      "cell_type": "code",
      "source": [
        "a = float(input('Digite um número: '))\n",
        "print(f'O dobro de {a} é {2*a}!\\nOtriplo de {a} é {3*a}!\\nA raiz quadrada de {a} é {round((a)**(1/2), 2)}!')"
      ],
      "metadata": {
        "id": "4cw4Qc37uK5n"
      },
      "execution_count": null,
      "outputs": []
    },
    {
      "cell_type": "markdown",
      "source": [
        "#Exercício Python 007 - Média de 2 números"
      ],
      "metadata": {
        "id": "ywszmh2mvBSE"
      }
    },
    {
      "cell_type": "code",
      "source": [
        "a = float(input('Digite a primeira nota: '))\n",
        "b = float(input('Digite a segunda nota: '))\n",
        "print(f'A média das notas {a} e {b} é {round((a/2 + b/2), 2)}')"
      ],
      "metadata": {
        "id": "NCFIe2vBu28L"
      },
      "execution_count": null,
      "outputs": []
    },
    {
      "cell_type": "markdown",
      "source": [
        "#Exercício Python 008 - Conversor de Medidas"
      ],
      "metadata": {
        "id": "-Jy-U4skv3vl"
      }
    },
    {
      "cell_type": "code",
      "source": [
        "a = float(input('Digite uma medida em metros: '))\n",
        "print(f' {a} metros valem:\\n{a/1000} km\\n{a/100} hm\\n{a/10} dam\\n{10*a} dm\\n{100*a} cm\\n{1000*a} mm')"
      ],
      "metadata": {
        "id": "ODTMhywWvtfA"
      },
      "execution_count": null,
      "outputs": []
    },
    {
      "cell_type": "markdown",
      "source": [
        "#Exercício Python 009 - Tabuada"
      ],
      "metadata": {
        "id": "vqdZfyIpxWkD"
      }
    },
    {
      "cell_type": "code",
      "source": [
        "i = 0\n",
        "a = int(input('Digite um número: '))\n",
        "z = int(input('A sua tabuada vai de zero até: '))\n",
        "print('_______')\n",
        "while i < z+1:\n",
        "  print(f'{a} * {i:5} = {a*i:8}')\n",
        "  i= i+1\n",
        "print('_______')"
      ],
      "metadata": {
        "id": "35D3-sI9wn91"
      },
      "execution_count": null,
      "outputs": []
    },
    {
      "cell_type": "markdown",
      "source": [
        "#Exercício Python 010 - Conversor de Moedas\n"
      ],
      "metadata": {
        "id": "ZQAaOSC0z28A"
      }
    },
    {
      "cell_type": "code",
      "source": [
        "r = round(float(input('Qual a quantidade de reais você deseja covnerter?\\nDICA: Use ponto e não vírgula! ')),2)\n",
        "d = round(float(input('Qual o valor de $1.00 hoje?\\nDICA: Use ponto e não vírgula')), 2)\n",
        "print(f'Com R$ {r} você consegue $ {round(r/d, 2)}!')"
      ],
      "metadata": {
        "id": "ALGqwqXaxzR0"
      },
      "execution_count": null,
      "outputs": []
    },
    {
      "cell_type": "markdown",
      "source": [
        "#Exercício Python 011 - Pintando Parede\n",
        "Faça um programa que leia a largura e a altura de uma parede em metros, calcule a sua área e a quantidade de tinta necessária para pintá-la, sabendo que cada litro de tinta pinta uma área de 2 metros quadrados."
      ],
      "metadata": {
        "id": "LnH2aT_FsA4W"
      }
    },
    {
      "cell_type": "code",
      "source": [
        "a = float(input('Digite a altura da parede: '))\n",
        "b = float(input('Digite a largura da parede: '))\n",
        "c = round(a*b, 2)\n",
        "d = round(c/2, 2)\n",
        "print(f'A área da parade é {c} m² e serão necessários {d} L de tinta para pintar a parede')"
      ],
      "metadata": {
        "id": "SWxdfhko2zwl"
      },
      "execution_count": null,
      "outputs": []
    },
    {
      "cell_type": "markdown",
      "source": [
        "#Exercício Python 012 - Desconto \n",
        "Faça um algoritmo que leia o preço de um produto e mostre seu novo preço, com 5% de desconto."
      ],
      "metadata": {
        "id": "Q0pLrYw5uzaL"
      }
    },
    {
      "cell_type": "code",
      "source": [
        "a = round(float(input('Digite o preço do produto que vai ser dado o desconto: ')),2)\n",
        "\n",
        "print(f'O valoro total do produto era R$ {a}, com o desconto ele passa a ser R$ {round(0.95*a, 2)}!')"
      ],
      "metadata": {
        "colab": {
          "base_uri": "https://localhost:8080/"
        },
        "id": "P-Ebi1bZu0xE",
        "outputId": "bb3640d9-f2ef-42bc-83c4-2e2436fdbd36"
      },
      "execution_count": null,
      "outputs": [
        {
          "output_type": "stream",
          "name": "stdout",
          "text": [
            "Digite o preço do produto que vai ser dado o desconto: 23.65\n",
            "O valoro total do produto era R$ 23.65, com o desconto ele passa a ser R$ 22.47!\n"
          ]
        }
      ]
    },
    {
      "cell_type": "markdown",
      "source": [
        "#Exercício Python 013 - Aumento\n",
        " Faça um algoritmo que leia o salário de um funcionário e mostre seu novo salário, com 15% de aument"
      ],
      "metadata": {
        "id": "1tEG84RAwGRj"
      }
    },
    {
      "cell_type": "code",
      "source": [
        "sal = round(float(input('Digite o salário do funcionário: ')),2)\n",
        "\n",
        "print(f'O salário era R$ {sal}, como o aumentou de 15% passou a ser R$ {round(1.15*sal,2)}!') \n"
      ],
      "metadata": {
        "id": "Go_yit1Bvw-3"
      },
      "execution_count": null,
      "outputs": []
    },
    {
      "cell_type": "markdown",
      "source": [
        "#Exercício Python 014 - Convertendo Temperaturas \n",
        "Escreva um programa que converta uma temperatura digitando em graus Celsius e converta para graus Fahrenheit."
      ],
      "metadata": {
        "id": "L-ETK9VJxH6O"
      }
    },
    {
      "cell_type": "code",
      "source": [
        "tempC = round(float(input('Qual a temperatura em celsius: ')),2)\n",
        "\n",
        "tempF =  round(((9*tempC/5) + 32),2)\n",
        "\n",
        "print(f'{tempC} °C equivalem a {tempF} °F')"
      ],
      "metadata": {
        "colab": {
          "base_uri": "https://localhost:8080/"
        },
        "id": "yeiYpt5DxHmd",
        "outputId": "aea14868-7135-4e25-f6e9-1e54b7be05d9"
      },
      "execution_count": null,
      "outputs": [
        {
          "output_type": "stream",
          "name": "stdout",
          "text": [
            "Qual a temperatura em celsius: 34.5\n",
            "34.5 °C equivalem a 94.1 °F\n"
          ]
        }
      ]
    },
    {
      "cell_type": "markdown",
      "source": [
        "#Exercício Python 015 - Aluguel de Carro \n",
        "Escreva um programa que pergunte a quantidade de Km percorridos por um carro alugado e a quantidade de dias pelos quais ele foi alugado. Calcule o preço a pagar, sabendo que o carro custa 60 reais por dia e 0,15 reais por Km rodado."
      ],
      "metadata": {
        "id": "qR2-uvd7yJlJ"
      }
    },
    {
      "cell_type": "code",
      "source": [
        "dias = int(input('Digite a quantidade de dias que o carro ficou alugado: '))\n",
        "km = float(input('Digite a quantidade de Km que o carro andou nesse periodo: '))\n",
        "\n",
        "preço = round(dias*60 + km*0.15,2)\n",
        "print(f'O custo do aluguel de um carro que ficou alugado por {dias} dias,\\ne percorreu {round(km,2)} km é: R$ {preço}!')"
      ],
      "metadata": {
        "colab": {
          "base_uri": "https://localhost:8080/"
        },
        "id": "50NyE0t1wfjb",
        "outputId": "e32be679-c232-4ba3-f6e2-7b70289894d7"
      },
      "execution_count": null,
      "outputs": [
        {
          "output_type": "stream",
          "name": "stdout",
          "text": [
            "Digite a quantidade de dias que o carro ficou alugado: 12\n",
            "Digite a quantidade de Km que o carro andou nesse periodo: 45000\n",
            "O custo do aluguel de um carro que ficou alugado por 12 dias,\n",
            "e percorreu 45000.0 km é: R$ 7470.0!\n"
          ]
        }
      ]
    },
    {
      "cell_type": "markdown",
      "source": [
        "#Exercício Python 016 - Parte Inteira \n",
        "Crie um programa que leia um número Real qualquer pelo teclado e mostre na tela a sua porção Inteira."
      ],
      "metadata": {
        "id": "TFhQH9I61keG"
      }
    },
    {
      "cell_type": "code",
      "source": [
        "from math import trunc  #trunc é a função que retorna somente a parte inteira do número\n",
        "a = round(float(input('Digite um número: ')),2)\n",
        "\n",
        "print(f'O número digitado foi {a} e sua parte inteira é {trunc(a)}')"
      ],
      "metadata": {
        "colab": {
          "base_uri": "https://localhost:8080/"
        },
        "id": "fg1HCljW1VU4",
        "outputId": "046a95b7-9489-4f95-d60d-653e3f4be9b6"
      },
      "execution_count": null,
      "outputs": [
        {
          "output_type": "stream",
          "name": "stdout",
          "text": [
            "Digite um número: 54.2131412\n",
            "O número digitado foi 54.21 e sua parte inteira é 54\n"
          ]
        }
      ]
    },
    {
      "cell_type": "markdown",
      "source": [
        "#Exercício Python 017 - Hipotenusa \n",
        "Faça um programa que leia o comprimento do cateto oposto e do cateto adjacente de um triângulo retângulo. Calcule e mostre o comprimento da hipotenusa."
      ],
      "metadata": {
        "id": "70G6jHMv3Tjp"
      }
    },
    {
      "cell_type": "code",
      "source": [
        "from math import sqrt\n",
        "c_op = float(input('Digite o tamanho do cateto oposto: '))\n",
        "c_adj = float(input('Digite o tamanho do cateto adjacente: '))\n",
        "\n",
        "hip = round(sqrt(c_op**2 + c_adj**2))\n",
        "\n",
        "print(f'Um triângulo retângulo com catetos medindo {c_op} e {c_adj}, tem hipotenusa igual a {hip}')"
      ],
      "metadata": {
        "colab": {
          "base_uri": "https://localhost:8080/"
        },
        "id": "qvgAWyPH2YTZ",
        "outputId": "532b5b75-e08c-4b03-eedf-b5db001d4d11"
      },
      "execution_count": null,
      "outputs": [
        {
          "output_type": "stream",
          "name": "stdout",
          "text": [
            "Digite o tamanho do cateto oposto: 3\n",
            "Digite o tamanho do cateto adjacente: 4\n",
            "Um triângulo retângulo com catetos medindo 3.0 e 4.0, tem hipotenusa igual a 5\n"
          ]
        }
      ]
    },
    {
      "cell_type": "markdown",
      "source": [
        "#Exercício Python 018 - Seno, Cosseno e Tangente \n",
        "Faça um programa que leia um ângulo qualquer e mostre na tela o valor do seno, cosseno e tangente desse ângulo."
      ],
      "metadata": {
        "id": "OfzIPfZj6tu1"
      }
    },
    {
      "cell_type": "code",
      "source": [
        "from math import sin, cos, tan, pi\n",
        "\n",
        "ang = float(input('Digite o angulo desejado: '))\n",
        "\n",
        "s = round(sin(ang*pi/180), 2)\n",
        "c = round(cos(ang*pi/180), 2)\n",
        "t = round(tan(ang*pi/180), 2)\n",
        "\n",
        "\n",
        "print(f'O seno de {ang}° é: {s}')\n",
        "print(f'O cosseno de {ang}° é: {c}')\n",
        "print(f'A tangente de {ang}° é: {t}')\n",
        "\n",
        "\n",
        "\n",
        "\n",
        "\n"
      ],
      "metadata": {
        "colab": {
          "base_uri": "https://localhost:8080/"
        },
        "id": "RV8KkrlB39gu",
        "outputId": "5c8b9ef4-a86d-4f48-e71d-fb2f71c02a97"
      },
      "execution_count": null,
      "outputs": [
        {
          "output_type": "stream",
          "name": "stdout",
          "text": [
            "Digite o angulo desejado: 30\n",
            "O seno de 30.0° é: 0.5\n",
            "O cosseno de 30.0° é: 0.87\n",
            "A tangente de 30.0° é: 0.58\n"
          ]
        },
        {
          "output_type": "execute_result",
          "data": {
            "text/plain": [
              "0.5"
            ]
          },
          "metadata": {},
          "execution_count": 23
        }
      ]
    },
    {
      "cell_type": "markdown",
      "source": [
        "#Exercício Python 019 - Escolhendo\n",
        "Um professor quer sortear um dos seus quatro alunos para apagar o quadro. Faça um programa que ajude ele, lendo o nome dos alunos e escrevendo na tela o nome do escolhido."
      ],
      "metadata": {
        "id": "Ru7HPpLt8seO"
      }
    },
    {
      "cell_type": "code",
      "source": [
        "from IPython.lib.security import random\n",
        "a = ['', '', '', '']\n",
        "a[0] = input('Digite um nome: ')\n",
        "a[1] = input('Digite outro nome: ')\n",
        "a[2] = input('Digite mais um nome: ')\n",
        "a[3] = input('Digite o último nome: ')\n",
        "\n",
        "b = random.choice(a)\n",
        "print(f'O nome escolhido foi, {b}')\n",
        "\n",
        "print('\\nOutraforma\\n')\n",
        "\n",
        "c = random.randint(0, 3)\n",
        "print(f'O nome escolhido foi {a[c]}, {c}')\n"
      ],
      "metadata": {
        "colab": {
          "base_uri": "https://localhost:8080/"
        },
        "id": "_3lW2X3K7DgD",
        "outputId": "87a5808a-4bfc-49bf-8349-0d965f9a07e3"
      },
      "execution_count": null,
      "outputs": [
        {
          "output_type": "stream",
          "name": "stdout",
          "text": [
            "Digite um nome: oi\n",
            "Digite outro nome: ca\n",
            "Digite mais um nome: de\n",
            "Digite o último nome: ce\n",
            "O nome escolhido foi, ce\n",
            "\n",
            "Outraforma\n",
            "\n",
            "O nome escolhido foi oi, 0\n"
          ]
        }
      ]
    },
    {
      "cell_type": "markdown",
      "source": [
        "#Exercício Python 020 - Rearrumando a Lista\n",
        "O mesmo professor do desafio 019 quer sortear a ordem de apresentação de trabalhos dos alunos. Faça um programa que leia o nome dos quatro alunos e mostre a ordem sorteada."
      ],
      "metadata": {
        "id": "cF_CAY1gAlMo"
      }
    },
    {
      "cell_type": "code",
      "source": [
        "a = ['', '', '', '']\n",
        "a[0] = input('Digite um nome: ')\n",
        "a[1] = input('Digite outro nome: ')\n",
        "a[2] = input('Digite mais um nome: ')\n",
        "a[3] = input('Digite o último nome: ')\n",
        "\n",
        "print(f'A ordem dos nomes é, {random.sample(a, 4)}')\n"
      ],
      "metadata": {
        "colab": {
          "base_uri": "https://localhost:8080/"
        },
        "id": "YACTWMNO9J7K",
        "outputId": "469dc9a7-7e3c-4900-cf20-aef2d2a3b494"
      },
      "execution_count": null,
      "outputs": [
        {
          "output_type": "stream",
          "name": "stdout",
          "text": [
            "Digite um nome: ana\n",
            "Digite outro nome: e\n",
            "Digite mais um nome: r\n",
            "Digite o último nome: \n",
            "A ordem dos nomes é, ['', 'r', 'e', 'ana']\n"
          ]
        }
      ]
    },
    {
      "cell_type": "code",
      "source": [
        "t"
      ],
      "metadata": {
        "id": "xJeu1oSZBT9t"
      },
      "execution_count": null,
      "outputs": []
    }
  ]
}