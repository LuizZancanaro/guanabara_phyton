{
  "nbformat": 4,
  "nbformat_minor": 0,
  "metadata": {
    "colab": {
      "provenance": [],
      "authorship_tag": "ABX9TyMp+z506NVdayVnCya4jW60",
      "include_colab_link": true
    },
    "kernelspec": {
      "name": "python3",
      "display_name": "Python 3"
    },
    "language_info": {
      "name": "python"
    }
  },
  "cells": [
    {
      "cell_type": "markdown",
      "metadata": {
        "id": "view-in-github",
        "colab_type": "text"
      },
      "source": [
        "<a href=\"https://colab.research.google.com/github/LuizZancanaro/guanabara_phyton/blob/main/Exericicios_Guanabara_Phyton.ipynb\" target=\"_parent\"><img src=\"https://colab.research.google.com/assets/colab-badge.svg\" alt=\"Open In Colab\"/></a>"
      ]
    },
    {
      "cell_type": "markdown",
      "source": [
        "# Exercicio 1 - Olá Mundo!"
      ],
      "metadata": {
        "id": "TUEaxgEuqQ5j"
      }
    },
    {
      "cell_type": "code",
      "source": [
        "print(\"Olá mundo!\")"
      ],
      "metadata": {
        "id": "Kh7colNcp2rs"
      },
      "execution_count": null,
      "outputs": []
    },
    {
      "cell_type": "markdown",
      "source": [
        "# Exercicio 2 - Saudações"
      ],
      "metadata": {
        "id": "DYz8zJTIq5XV"
      }
    },
    {
      "cell_type": "code",
      "source": [
        "nome = input('Digite seu nome:')\n",
        "print(f'Olá, {nome}.\\nSeja bem-vindo!')"
      ],
      "metadata": {
        "id": "31BJmn5Kqs45"
      },
      "execution_count": null,
      "outputs": []
    },
    {
      "cell_type": "markdown",
      "source": [
        "# Exercicio 3 - Soma de Dois Valores"
      ],
      "metadata": {
        "id": "p8yMh5ZOrXrm"
      }
    },
    {
      "cell_type": "code",
      "source": [
        "a = int(input('Qual o primeiro valor a ser somado:'))\n",
        "b = int(input('Qual o segundo valor a ser somado:'))\n",
        "print(f'O resuldado da soma de {a} com {b} é {a+b}')\n"
      ],
      "metadata": {
        "id": "g0BLt_qzq_FI"
      },
      "execution_count": null,
      "outputs": []
    },
    {
      "cell_type": "markdown",
      "source": [
        "#Exercicio 4 - Dissecando uma Entrada"
      ],
      "metadata": {
        "id": "e3uAieiTrupW"
      }
    },
    {
      "cell_type": "code",
      "source": [
        "from string import ascii_uppercase\n",
        "a = input(\"Digite alguma coisa: \")\n",
        "print('O que você digitou é do tipo', type(a))\n",
        "print('Só tem espaços?', a.isspace())\n",
        "print('É um número?', a.isnumeric())\n",
        "print('É alfabetico?', a.isalpha())\n",
        "print('É alfanumérico?', a.isalnum())\n",
        "print('Está em maiúscula?', a.isupper())\n",
        "print('Está em minúsculo?', a.islower())\n",
        "print('Tem a primeira letra maiuscula?', a.istitle())\n"
      ],
      "metadata": {
        "id": "Lt9fYafzrIsl"
      },
      "execution_count": null,
      "outputs": []
    },
    {
      "cell_type": "markdown",
      "source": [
        "#Exercicio 5 - Sucessor, Antecessor"
      ],
      "metadata": {
        "id": "0Q0Q_W6ot6S2"
      }
    },
    {
      "cell_type": "code",
      "source": [
        "a = int(input('Digite um número: '))\n",
        "print(f'O antecessor de {a} é {a-1}, e o sucessor é {a+1}')"
      ],
      "metadata": {
        "id": "Q6FWrycRsTfu"
      },
      "execution_count": null,
      "outputs": []
    },
    {
      "cell_type": "markdown",
      "source": [
        "#Exercício 6 - Dobro, Triplo, e Raiz Quadrada"
      ],
      "metadata": {
        "id": "371A4GBeuX29"
      }
    },
    {
      "cell_type": "code",
      "source": [
        "a = float(input('Digite um número: '))\n",
        "print(f'O dobro de {a} é {2*a}!\\nOtriplo de {a} é {3*a}!\\nA raiz quadrada de {a} é {round((a)**(1/2), 2)}!')"
      ],
      "metadata": {
        "id": "4cw4Qc37uK5n"
      },
      "execution_count": null,
      "outputs": []
    },
    {
      "cell_type": "markdown",
      "source": [
        "#Exercício 7 - Média de 2 números"
      ],
      "metadata": {
        "id": "ywszmh2mvBSE"
      }
    },
    {
      "cell_type": "code",
      "source": [
        "a = float(input('Digite a primeira nota: '))\n",
        "b = float(input('Digite a segunda nota: '))\n",
        "print(f'A média das notas {a} e {b} é {round((a/2 + b/2), 2)}')"
      ],
      "metadata": {
        "id": "NCFIe2vBu28L"
      },
      "execution_count": null,
      "outputs": []
    },
    {
      "cell_type": "markdown",
      "source": [
        "#Exercício 8 - Conversor de Medidas"
      ],
      "metadata": {
        "id": "-Jy-U4skv3vl"
      }
    },
    {
      "cell_type": "code",
      "source": [
        "a = float(input('Digite uma medida em metros: '))\n",
        "print(f' {a} metros valem:\\n{a/1000} km\\n{a/100} hm\\n{a/10} dam\\n{10*a} dm\\n{100*a} cm\\n{1000*a} mm')"
      ],
      "metadata": {
        "id": "ODTMhywWvtfA"
      },
      "execution_count": null,
      "outputs": []
    },
    {
      "cell_type": "markdown",
      "source": [
        "#Exercício 9 - Tabuada"
      ],
      "metadata": {
        "id": "vqdZfyIpxWkD"
      }
    },
    {
      "cell_type": "code",
      "source": [
        "i = 0\n",
        "a = int(input('Digite um número: '))\n",
        "z = int(input('A sua tabuada vai de zero até: '))\n",
        "print('_______')\n",
        "while i < z+1:\n",
        "  print(f'{a} * {i:5} = {a*i:8}')\n",
        "  i= i+1\n",
        "print('_______')"
      ],
      "metadata": {
        "id": "35D3-sI9wn91"
      },
      "execution_count": null,
      "outputs": []
    },
    {
      "cell_type": "markdown",
      "source": [
        "#Exercício 10 - Conversor de Moedas\n"
      ],
      "metadata": {
        "id": "ZQAaOSC0z28A"
      }
    },
    {
      "cell_type": "code",
      "source": [
        "r = round(float(input('Qual a quantidade de reais você deseja covnerter?\\nDICA: Use ponto e não vírgula! ')),2)\n",
        "d = round(float(input('Qual o valor de $1.00 hoje?\\nDICA: Use ponto e não vírgula')), 2)\n",
        "print(f'Com R$ {r} você consegue $ {round(r/d, 2)}!')"
      ],
      "metadata": {
        "id": "ALGqwqXaxzR0"
      },
      "execution_count": null,
      "outputs": []
    },
    {
      "cell_type": "code",
      "source": [],
      "metadata": {
        "id": "SWxdfhko2zwl"
      },
      "execution_count": null,
      "outputs": []
    }
  ]
}