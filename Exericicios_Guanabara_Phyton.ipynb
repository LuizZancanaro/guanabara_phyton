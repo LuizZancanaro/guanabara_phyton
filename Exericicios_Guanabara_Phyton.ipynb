{
  "nbformat": 4,
  "nbformat_minor": 0,
  "metadata": {
    "colab": {
      "provenance": [],
      "authorship_tag": "ABX9TyMp+z506NVdayVnCya4jW60",
      "include_colab_link": true
    },
    "kernelspec": {
      "name": "python3",
      "display_name": "Python 3"
    },
    "language_info": {
      "name": "python"
    }
  },
  "cells": [
    {
      "cell_type": "markdown",
      "metadata": {
        "id": "view-in-github",
        "colab_type": "text"
      },
      "source": [
        "<a href=\"https://colab.research.google.com/github/LuizZancanaro/guanabara_phyton/blob/main/Exericicios_Guanabara_Phyton.ipynb\" target=\"_parent\"><img src=\"https://colab.research.google.com/assets/colab-badge.svg\" alt=\"Open In Colab\"/></a>"
      ]
    },
    {
      "cell_type": "markdown",
      "source": [
        "# Exercicio 1 - Olá Mundo!"
      ],
      "metadata": {
        "id": "TUEaxgEuqQ5j"
      }
    },
    {
      "cell_type": "code",
      "source": [
        "print(\"Olá mundo!\")"
      ],
      "metadata": {
        "colab": {
          "base_uri": "https://localhost:8080/"
        },
        "id": "Kh7colNcp2rs",
        "outputId": "99f4c015-7bcc-4948-8e2a-81abb1e08af5"
      },
      "execution_count": null,
      "outputs": [
        {
          "output_type": "stream",
          "name": "stdout",
          "text": [
            "Olá mundo!\n"
          ]
        }
      ]
    },
    {
      "cell_type": "markdown",
      "source": [
        "# Exercicio 2 - Saudações"
      ],
      "metadata": {
        "id": "DYz8zJTIq5XV"
      }
    },
    {
      "cell_type": "code",
      "source": [
        "nome = input('Digite seu nome:')\n",
        "print(f'Olá, {nome}.\\nSeja bem-vindo!')"
      ],
      "metadata": {
        "colab": {
          "base_uri": "https://localhost:8080/"
        },
        "id": "31BJmn5Kqs45",
        "outputId": "98b8bbe2-23de-4716-84b0-6fe61b324b20"
      },
      "execution_count": null,
      "outputs": [
        {
          "output_type": "stream",
          "name": "stdout",
          "text": [
            "Digite seu nome:Gustavo\n",
            "Olá, Gustavo.\n",
            "Seja bem-vindo!\n"
          ]
        }
      ]
    },
    {
      "cell_type": "markdown",
      "source": [
        "# Exercicio 3 - Soma de Dois Valores"
      ],
      "metadata": {
        "id": "p8yMh5ZOrXrm"
      }
    },
    {
      "cell_type": "code",
      "source": [
        "a = int(input('Qual o primeiro valor a ser somado:'))\n",
        "b = int(input('Qual o segundo valor a ser somado:'))\n",
        "print(f'O resuldado da soma de {a} com {b} é {a+b}')\n"
      ],
      "metadata": {
        "colab": {
          "base_uri": "https://localhost:8080/"
        },
        "id": "g0BLt_qzq_FI",
        "outputId": "61053368-ba44-4749-d939-e054044504b0"
      },
      "execution_count": null,
      "outputs": [
        {
          "output_type": "stream",
          "name": "stdout",
          "text": [
            "Qual o primeiro valor a ser somado:12\n",
            "Qual o segundo valor a ser somado:32\n",
            "O resuldado da soma de 12 com 32 é 44\n"
          ]
        }
      ]
    },
    {
      "cell_type": "markdown",
      "source": [
        "#Exercicio 4 - Dissecando uma Entrada"
      ],
      "metadata": {
        "id": "e3uAieiTrupW"
      }
    },
    {
      "cell_type": "code",
      "source": [
        "from string import ascii_uppercase\n",
        "a = input(\"Digite alguma coisa: \")\n",
        "print('O que você digitou é do tipo', type(a))\n",
        "print('Só tem espaços?', a.isspace())\n",
        "print('É um número?', a.isnumeric())\n",
        "print('É alfabetico?', a.isalpha())\n",
        "print('É alfanumérico?', a.isalnum())\n",
        "print('Está em maiúscula?', a.isupper())\n",
        "print('Está em minúsculo?', a.islower())\n",
        "print('Tem a primeira letra maiuscula?', a.istitle())\n"
      ],
      "metadata": {
        "id": "Lt9fYafzrIsl"
      },
      "execution_count": null,
      "outputs": []
    },
    {
      "cell_type": "markdown",
      "source": [
        "#Exercicio 5 - Sucessor, Antecessor"
      ],
      "metadata": {
        "id": "0Q0Q_W6ot6S2"
      }
    },
    {
      "cell_type": "code",
      "source": [
        "a = int(input('Digite um número: '))\n",
        "print(f'O antecessor de {a} é {a-1}, e o sucessor é {a+1}')"
      ],
      "metadata": {
        "colab": {
          "base_uri": "https://localhost:8080/"
        },
        "id": "Q6FWrycRsTfu",
        "outputId": "e4c8690d-9bb4-4b13-d5b5-e7df11ee6309"
      },
      "execution_count": null,
      "outputs": [
        {
          "output_type": "stream",
          "name": "stdout",
          "text": [
            "Digite um número: 2\n",
            "O antecessor de 2 é 1, e o sucessor é 3\n"
          ]
        }
      ]
    },
    {
      "cell_type": "markdown",
      "source": [
        "#Exercício 6 - Dobro, Triplo, e Raiz Quadrada"
      ],
      "metadata": {
        "id": "371A4GBeuX29"
      }
    },
    {
      "cell_type": "code",
      "source": [
        "a = float(input('Digite um número: '))\n",
        "print(f'O dobro de {a} é {2*a}!\\nOtriplo de {a} é {3*a}!\\nA raiz quadrada de {a} é {round((a)**(1/2), 2)}!')"
      ],
      "metadata": {
        "colab": {
          "base_uri": "https://localhost:8080/"
        },
        "id": "4cw4Qc37uK5n",
        "outputId": "0d0c3633-5f11-4570-fcb9-dda51dc85439"
      },
      "execution_count": null,
      "outputs": [
        {
          "output_type": "stream",
          "name": "stdout",
          "text": [
            "Digite um número: 21\n",
            "O dobro de 21.0 é 42.0!\n",
            "Otriplo de 21.0 é 63.0!\n",
            "A raiz quadrada de 21.0 é 4.58\n"
          ]
        }
      ]
    },
    {
      "cell_type": "markdown",
      "source": [
        "#Exercício 7 - Média de 2 números"
      ],
      "metadata": {
        "id": "ywszmh2mvBSE"
      }
    },
    {
      "cell_type": "code",
      "source": [
        "a = float(input('Digite a primeira nota: '))\n",
        "b = float(input('Digite a segunda nota: '))\n",
        "print(f'A média das notas {a} e {b} é {round((a/2 + b/2), 2)}')"
      ],
      "metadata": {
        "colab": {
          "base_uri": "https://localhost:8080/"
        },
        "id": "NCFIe2vBu28L",
        "outputId": "9fa748f4-0fc3-4ecc-a5a5-08ea0204d773"
      },
      "execution_count": null,
      "outputs": [
        {
          "output_type": "stream",
          "name": "stdout",
          "text": [
            "Digite a primeira nota: 21\n",
            "Digite a segunda nota: 324\n",
            "A média das notas 21.0 e 324.0 é 172.5\n"
          ]
        }
      ]
    },
    {
      "cell_type": "markdown",
      "source": [
        "#Exercício 8 - Conversor de Medidas"
      ],
      "metadata": {
        "id": "-Jy-U4skv3vl"
      }
    },
    {
      "cell_type": "code",
      "source": [
        "a = float(input('Digite uma medida em metros: '))\n",
        "print(f' {a} metros valem:\\n{a/1000} km\\n{a/100} hm\\n{a/10} dam\\n{10*a} dm\\n{100*a} cm\\n{1000*a} mm')"
      ],
      "metadata": {
        "colab": {
          "base_uri": "https://localhost:8080/"
        },
        "id": "ODTMhywWvtfA",
        "outputId": "39221f62-5114-4b4a-b40b-bdcdfe4620c5"
      },
      "execution_count": null,
      "outputs": [
        {
          "output_type": "stream",
          "name": "stdout",
          "text": [
            "Digite uma medida em metros: 21\n",
            " 21.0 metros valem:\n",
            "0.021 km\n",
            "0.21 hm\n",
            "2.1 dam\n",
            "210.0 dm\n",
            "2100.0 cm\n",
            "21000.0 mm\n"
          ]
        }
      ]
    },
    {
      "cell_type": "markdown",
      "source": [
        "#Exercício 9 - Tabuada"
      ],
      "metadata": {
        "id": "vqdZfyIpxWkD"
      }
    },
    {
      "cell_type": "code",
      "source": [
        "i = 0\n",
        "a = int(input('Digite um número: '))\n",
        "z = int(input('A sua tabuada vai de zero até: '))\n",
        "print('_______')\n",
        "while i < z+1:\n",
        "  print(f'{a} * {i:5} = {a*i:8}')\n",
        "  i= i+1\n",
        "print('_______')"
      ],
      "metadata": {
        "id": "35D3-sI9wn91"
      },
      "execution_count": null,
      "outputs": []
    },
    {
      "cell_type": "markdown",
      "source": [
        "#Exercício 10 - Conversor de Moedas\n"
      ],
      "metadata": {
        "id": "ZQAaOSC0z28A"
      }
    },
    {
      "cell_type": "code",
      "source": [
        "r = round(float(input('Qual a quantidade de reais você deseja covnerter?\\nDICA: Use ponto e não vírgula! ')),2)\n",
        "d = round(float(input('Qual o valor de $1.00 hoje?\\nDICA: Use ponto e não vírgula')), 2)\n",
        "print(f'Com R$ {r} você consegue $ {round(r/d, 2)}!')"
      ],
      "metadata": {
        "colab": {
          "base_uri": "https://localhost:8080/"
        },
        "id": "ALGqwqXaxzR0",
        "outputId": "dee111fa-f7d0-4f60-8300-5b71ff114a15"
      },
      "execution_count": null,
      "outputs": [
        {
          "output_type": "stream",
          "name": "stdout",
          "text": [
            "Qual a quantidade de reais você deseja covnerter?\n",
            "DICA: Use ponto e não vírgula! 1234.23\n",
            "Qual o valor de $1.00 hoje?\n",
            "DICA: Use ponto e não vírgula5.45\n",
            "Com R$ 1234.23 você consegue $ 226.46!\n"
          ]
        }
      ]
    },
    {
      "cell_type": "code",
      "source": [],
      "metadata": {
        "id": "SWxdfhko2zwl"
      },
      "execution_count": null,
      "outputs": []
    }
  ]
}